{
 "cells": [
  {
   "cell_type": "code",
   "outputs": [],
   "source": [
    "# scp -r imbalanced_work cq2u24@loginX001.iridis.soton.ac.uk:~;        "
   ],
   "metadata": {
    "collapsed": false,
    "ExecuteTime": {
     "end_time": "2024-10-30T12:53:48.609587Z",
     "start_time": "2024-10-30T12:53:48.607429Z"
    }
   },
   "execution_count": 1
  },
  {
   "cell_type": "code",
   "outputs": [
    {
     "name": "stderr",
     "output_type": "stream",
     "text": [
      "/Users/qiuchuanhang/conda/anaconda3/envs/imbalanced-learn/lib/python3.10/site-packages/aeon/base/__init__.py:24: FutureWarning: The aeon package will soon be releasing v1.0.0 with the removal of legacy modules and interfaces such as BaseTransformer and BaseForecaster. This will contain breaking changes. See aeon-toolkit.org for more information. Set aeon.AEON_DEPRECATION_WARNING or the AEON_DEPRECATION_WARNING environmental variable to 'False' to disable this warning.\n",
      "  warnings.warn(\n",
      "/Users/qiuchuanhang/conda/anaconda3/envs/imbalanced-learn/lib/python3.10/site-packages/dask/dataframe/_pyarrow_compat.py:17: FutureWarning: Minimal version of pyarrow will soon be increased to 14.0.1. You are using 11.0.0. Please consider upgrading.\n",
      "  warnings.warn(\n",
      "OMP: Info #276: omp_set_nested routine deprecated, please use omp_set_max_active_levels instead.\n"
     ]
    }
   ],
   "source": [
    "import os\n",
    "from collections import Counter\n",
    "from imblearn.datasets import fetch_datasets\n",
    "from sklearn.model_selection import StratifiedKFold\n",
    "from config import Config\n",
    "import logging\n",
    "from utils import *\n",
    "import time\n",
    "from numpy import interp\n",
    "from sklearn.linear_model import LogisticRegression\n",
    "from aeon.classification.interval_based import TimeSeriesForestClassifier\n",
    "from aeon.datasets import load_from_tsv_file, write_to_tsfile, load_from_tsfile\n",
    "from data_struc import make_imbalance\n",
    "config = Config()\n",
    "\"\"\"over-sampling methods include 'ADASYN', 'RandomOverSampler', 'KMeansSMOTE', 'SMOTE', \n",
    "'BorderlineSMOTE', 'SVMSMOTE', 'SMOTENC', 'SMOTEN'\"\"\"\n",
    "\n",
    "# Load a dataset\n",
    "datasets_list = os.listdir(config.data_debug_path)\n",
    "datasets_list = [x for x in datasets_list if not x.endswith('.csv') and not x.startswith('.')]"
   ],
   "metadata": {
    "collapsed": false,
    "ExecuteTime": {
     "end_time": "2024-10-30T12:53:50.466171Z",
     "start_time": "2024-10-30T12:53:48.610556Z"
    }
   },
   "execution_count": 2
  },
  {
   "cell_type": "code",
   "outputs": [
    {
     "data": {
      "text/plain": "128"
     },
     "execution_count": 3,
     "metadata": {},
     "output_type": "execute_result"
    }
   ],
   "source": [
    "len(datasets_list)"
   ],
   "metadata": {
    "collapsed": false,
    "ExecuteTime": {
     "end_time": "2024-10-30T12:53:50.469902Z",
     "start_time": "2024-10-30T12:53:50.466881Z"
    }
   },
   "execution_count": 3
  },
  {
   "cell_type": "code",
   "outputs": [],
   "source": [
    "data_name = datasets_list[0]\n",
    "data_path = config.data_debug_path"
   ],
   "metadata": {
    "collapsed": false,
    "ExecuteTime": {
     "end_time": "2024-10-30T12:53:50.471761Z",
     "start_time": "2024-10-30T12:53:50.470466Z"
    }
   },
   "execution_count": 4
  },
  {
   "cell_type": "markdown",
   "source": [],
   "metadata": {
    "collapsed": false
   }
  },
  {
   "cell_type": "code",
   "outputs": [],
   "source": [
    "data, target, meta_data = load_from_tsfile(os.path.join(data_path, data_name, f\"{data_name}.ts\"),\n",
    "                                                     return_meta_data=True)"
   ],
   "metadata": {
    "collapsed": false,
    "ExecuteTime": {
     "end_time": "2024-10-30T12:53:50.526258Z",
     "start_time": "2024-10-30T12:53:50.473042Z"
    }
   },
   "execution_count": 5
  },
  {
   "cell_type": "code",
   "outputs": [
    {
     "data": {
      "text/plain": "(463, 1, 1092)"
     },
     "execution_count": 6,
     "metadata": {},
     "output_type": "execute_result"
    }
   ],
   "source": [
    "data.shape"
   ],
   "metadata": {
    "collapsed": false,
    "ExecuteTime": {
     "end_time": "2024-10-30T12:53:50.529900Z",
     "start_time": "2024-10-30T12:53:50.526968Z"
    }
   },
   "execution_count": 6
  },
  {
   "cell_type": "code",
   "outputs": [],
   "source": [
    "np.random.seed(0)\n",
    "seeds = np.random.randint(0, 1000, 10)\n",
    "seed = seeds[0]\n"
   ],
   "metadata": {
    "collapsed": false,
    "ExecuteTime": {
     "end_time": "2024-10-30T12:53:50.532356Z",
     "start_time": "2024-10-30T12:53:50.530597Z"
    }
   },
   "execution_count": 7
  },
  {
   "cell_type": "code",
   "outputs": [],
   "source": [
    "import data_struc\n"
   ],
   "metadata": {
    "collapsed": false,
    "ExecuteTime": {
     "end_time": "2024-10-30T12:53:50.535048Z",
     "start_time": "2024-10-30T12:53:50.532958Z"
    }
   },
   "execution_count": 8
  },
  {
   "cell_type": "code",
   "outputs": [],
   "source": [
    "X_train, X_test, y_train, y_test = data_struc.split_data(data, target, data_name, seed, data_path=data_path)\n"
   ],
   "metadata": {
    "collapsed": false,
    "ExecuteTime": {
     "end_time": "2024-10-30T12:55:25.049600Z",
     "start_time": "2024-10-30T12:55:25.042060Z"
    }
   },
   "execution_count": 19
  },
  {
   "cell_type": "code",
   "outputs": [
    {
     "data": {
      "text/plain": "(array([0, 1]), array([131,  24]))"
     },
     "execution_count": 20,
     "metadata": {},
     "output_type": "execute_result"
    }
   ],
   "source": [
    "np.unique(y_train, return_counts=True)"
   ],
   "metadata": {
    "collapsed": false,
    "ExecuteTime": {
     "end_time": "2024-10-30T12:55:25.526763Z",
     "start_time": "2024-10-30T12:55:25.524171Z"
    }
   },
   "execution_count": 20
  },
  {
   "cell_type": "code",
   "outputs": [
    {
     "data": {
      "text/plain": "(array([0., 1.]), array([24, 24]))"
     },
     "execution_count": 21,
     "metadata": {},
     "output_type": "execute_result"
    }
   ],
   "source": [
    "X_train_imb, y_train_imb = make_imbalance(X_train, y_train, sampling_ratio=1)\n",
    "np.unique(y_train_imb,return_counts=True)"
   ],
   "metadata": {
    "collapsed": false,
    "ExecuteTime": {
     "end_time": "2024-10-30T12:56:10.041118Z",
     "start_time": "2024-10-30T12:56:10.037852Z"
    }
   },
   "execution_count": 21
  }
 ],
 "metadata": {
  "kernelspec": {
   "display_name": "imbalanced-learn",
   "language": "python",
   "name": "python3"
  },
  "language_info": {
   "name": "python",
   "version": "3.10.8"
  }
 },
 "nbformat": 4,
 "nbformat_minor": 2
}

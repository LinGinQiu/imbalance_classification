{
 "cells": [
  {
   "cell_type": "code",
   "outputs": [],
   "source": [
    "# scp -r imbalanced_work cq2u24@loginX001.iridis.soton.ac.uk:~;        "
   ],
   "metadata": {
    "collapsed": false
   }
  }
 ],
 "metadata": {
  "kernelspec": {
   "display_name": "imbalanced-learn",
   "language": "python",
   "name": "python3"
  },
  "language_info": {
   "name": "python",
   "version": "3.10.8"
  }
 },
 "nbformat": 4,
 "nbformat_minor": 2
}
